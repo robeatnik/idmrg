{
 "cells": [
  {
   "cell_type": "code",
   "execution_count": 3,
   "metadata": {
    "collapsed": false
   },
   "outputs": [
    {
     "data": {
      "text/plain": [
       "array([array([ 0.11208725,  0.80266235]),\n",
       "       array([ 0.34657359,  0.34657359]),\n",
       "       array([ 0.34657359,  0.34657359]),\n",
       "       array([ 0.34657359,  0.34657359]),\n",
       "       array([ 0.15595112,  0.65869868]),\n",
       "       array([ 0.34657359,  0.34657359]), array([-0.]),\n",
       "       array([ 0.05641987,  1.11883807]),\n",
       "       array([ 0.182337  ,  0.70451245]), array([ 0.06601598,  1.0450005 ])], dtype=object)"
      ]
     },
     "execution_count": 3,
     "metadata": {},
     "output_type": "execute_result"
    }
   ],
   "source": [
    "import numpy as np\n",
    "a = np.load('./ES/entanglement_spectrum_with_theta10(chi=2_N=15).npy')\n",
    "a"
   ]
  },
  {
   "cell_type": "code",
   "execution_count": null,
   "metadata": {
    "collapsed": true
   },
   "outputs": [],
   "source": []
  }
 ],
 "metadata": {
  "kernelspec": {
   "display_name": "Python 3",
   "language": "python",
   "name": "python3"
  },
  "language_info": {
   "codemirror_mode": {
    "name": "ipython",
    "version": 3
   },
   "file_extension": ".py",
   "mimetype": "text/x-python",
   "name": "python",
   "nbconvert_exporter": "python",
   "pygments_lexer": "ipython3",
   "version": "3.5.2"
  }
 },
 "nbformat": 4,
 "nbformat_minor": 2
}
